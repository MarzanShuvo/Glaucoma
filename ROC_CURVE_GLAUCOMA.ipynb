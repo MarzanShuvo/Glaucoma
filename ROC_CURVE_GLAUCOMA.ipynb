{
 "cells": [
  {
   "cell_type": "code",
   "execution_count": 45,
   "metadata": {},
   "outputs": [],
   "source": [
    "import matplotlib.pyplot as plt\n",
    "import numpy as np\n",
    "import cv2\n",
    "%matplotlib inline"
   ]
  },
  {
   "cell_type": "code",
   "execution_count": 46,
   "metadata": {},
   "outputs": [
    {
     "name": "stdout",
     "output_type": "stream",
     "text": [
      "20\n",
      "20\n"
     ]
    }
   ],
   "source": [
    "import glob\n",
    "#Data folders\n",
    "glaucoma_dir ='E:\\\\glaucoma_final\\\\Test\\\\glaucoma'\n",
    "healthy_dir = 'E:\\\\glaucoma_final\\\\Test\\\\health'\n",
    "glaucoma = []\n",
    "healthy = []\n",
    "# Read \n",
    "images = glob.iglob(glaucoma_dir + '/**/*.jpg', recursive=True)\n",
    "\n",
    "for image in images:\n",
    "        glaucoma.append(image)\n",
    "        \n",
    "images = glob.iglob(healthy_dir + '/**/*.jpg', recursive=True)\n",
    "\n",
    "for image in images:\n",
    "        healthy.append(image)\n",
    "\n",
    "        \n",
    "print(len(glaucoma))\n",
    "print(len(healthy))"
   ]
  },
  {
   "cell_type": "markdown",
   "metadata": {},
   "source": [
    "# :::::::::::::::::For Orb:::::::::::::"
   ]
  },
  {
   "cell_type": "code",
   "execution_count": 47,
   "metadata": {},
   "outputs": [],
   "source": [
    "def Image_preprocessing_orb(images):\n",
    "    preprocessed_image = []\n",
    "    for image in images:\n",
    "        image = cv2.imread(image)\n",
    "        reshape = cv2.resize(image, (400, 400))\n",
    "        blue, green, red = cv2.split(reshape)\n",
    "        clahe = cv2.createCLAHE(clipLimit=5.0, tileGridSize=(8, 8))\n",
    "        Adaptive_histrogram = clahe.apply(green)\n",
    "        preprocessed_image.append(Adaptive_histrogram)\n",
    "    return preprocessed_image\n",
    "\n",
    "glaucoma_preprocessing_orb = Image_preprocessing_orb(glaucoma)\n",
    "healthy_preprocessing_orb= Image_preprocessing_orb(healthy)\n",
    "\n",
    "\n",
    "def Orb_feature_extraction(images):\n",
    "    orb_feature_extracted = []\n",
    "    for image in images:\n",
    "        image_features = []\n",
    "        feature_image = np.copy(image)\n",
    "        orb_features = []\n",
    "        orb = cv2.ORB_create(nfeatures=500)\n",
    "        keypoints_orb, descriptors = orb.detectAndCompute(feature_image, None)\n",
    "        orb_features.append(descriptors[0:200])\n",
    "        orb_features = np.ravel(orb_features)\n",
    "        image_features.append(orb_features)\n",
    "        orb_feature_extracted.append(np.concatenate(image_features))\n",
    "    return orb_feature_extracted\n",
    "\n",
    "glaucoma_feature_orb = Orb_feature_extraction(glaucoma_preprocessing_orb)\n",
    "healthy_feature_orb = Orb_feature_extraction(healthy_preprocessing_orb)\n",
    "\n",
    "X_orb = np.vstack((glaucoma_feature_orb,healthy_feature_orb)).astype(np.float64)\n",
    "\n",
    "y_orb = np.hstack((np.zeros(len(glaucoma_feature_orb)), np.ones(len(healthy_feature_orb))))\n",
    "\n",
    "import pickle\n",
    "filename = 'E:\\\\glaucoma_final\\\\finalized_model_gnb.sav'\n",
    "gnb = pickle.load(open(filename, 'rb'))\n",
    "y_pred_orb = gnb.predict(X_orb)"
   ]
  },
  {
   "cell_type": "code",
   "execution_count": 48,
   "metadata": {},
   "outputs": [
    {
     "name": "stdout",
     "output_type": "stream",
     "text": [
      "AUC: 0.94\n"
     ]
    }
   ],
   "source": [
    "probs_orb = gnb.predict_proba(X_orb)\n",
    "probs_orb = probs_orb[:, 1]\n",
    "from sklearn.metrics import roc_curve\n",
    "from sklearn.metrics import roc_auc_score\n",
    "fpr_orb, tpr_orb, thresholds_orb = roc_curve(y_orb, probs_orb)\n",
    "auc_orb = roc_auc_score(y_orb, probs_orb)\n",
    "print('AUC: %.2f' % auc_orb)"
   ]
  },
  {
   "cell_type": "markdown",
   "metadata": {},
   "source": [
    "# ::::::::::::::::For Brief::::::::::::"
   ]
  },
  {
   "cell_type": "code",
   "execution_count": 49,
   "metadata": {},
   "outputs": [],
   "source": [
    "def Image_preprocessing_Brief(images):\n",
    "    preprocessed_image = []\n",
    "    for image in images:\n",
    "        image = cv2.imread(image)\n",
    "        reshape = cv2.resize(image, (400, 400))\n",
    "        blue, green, red = cv2.split(reshape)\n",
    "        equ = cv2.equalizeHist(green)\n",
    "        preprocessed_image.append(equ)\n",
    "    return preprocessed_image\n",
    "\n",
    "glaucoma_preprocessing_Brief = Image_preprocessing_Brief(glaucoma)\n",
    "healthy_preprocessing_Brief = Image_preprocessing_Brief(healthy)\n",
    "\n",
    "\n",
    "def brief_feature_extraction(images):\n",
    "    brief_feature_extracted = []\n",
    "    for image in images:\n",
    "        image_features = []\n",
    "        feature_image = np.copy(image)\n",
    "        brief_features = []\n",
    "        fast = cv2.FastFeatureDetector_create()\n",
    "        brief = cv2.xfeatures2d.BriefDescriptorExtractor_create()\n",
    "        keypoints = fast.detect(feature_image, None)\n",
    "        keypoints_brief, descriptors = brief.compute(feature_image, keypoints)\n",
    "        brief_features.append(descriptors[0:200])\n",
    "        brief_features = np.ravel(brief_features)\n",
    "        image_features.append(brief_features)\n",
    "        brief_feature_extracted.append(np.concatenate(image_features))\n",
    "    return brief_feature_extracted\n",
    "\n",
    "glaucoma_feature_brief = brief_feature_extraction(glaucoma_preprocessing_Brief)\n",
    "healthy_feature_brief = brief_feature_extraction(healthy_preprocessing_Brief)\n",
    "\n",
    "X_brief = np.vstack((glaucoma_feature_brief,healthy_feature_brief)).astype(np.float64)\n",
    "y_brief = np.hstack((np.zeros(len(glaucoma_feature_brief)), np.ones(len(healthy_feature_brief))))\n",
    "\n",
    "filename = 'E:\\\\glaucoma_final\\\\finalized_model_brief_svc.sav'\n",
    "svc = pickle.load(open(filename, 'rb'))\n",
    "\n",
    "y_pred_brief = svc.predict(X_brief)\n",
    "probs_brief = svc.predict_proba(X_brief)\n",
    "probs_brief = probs_brief[:,1]\n",
    "\n",
    "fpr_brief, tpr_brief, thresholds_brief = roc_curve(y_brief, probs_brief)\n",
    "auc_brief = roc_auc_score(y_brief, probs_brief)\n"
   ]
  },
  {
   "cell_type": "markdown",
   "metadata": {},
   "source": [
    "# :::::::::::::::::::::HOG:::::::::::::::::"
   ]
  },
  {
   "cell_type": "code",
   "execution_count": 50,
   "metadata": {},
   "outputs": [],
   "source": [
    "def Image_preprocessing_Hog(images):\n",
    "    preprocessed_image = []\n",
    "    for image in images:\n",
    "        image = cv2.imread(image)\n",
    "        reshape = cv2.resize(image, (400, 400))\n",
    "        blue, green, red = cv2.split(reshape)\n",
    "        clahe = cv2.createCLAHE(clipLimit=5.0, tileGridSize=(8, 8))\n",
    "        Adaptive_histrogram = clahe.apply(green)\n",
    "        preprocessed_image.append(Adaptive_histrogram)\n",
    "    return preprocessed_image\n",
    "\n",
    "def build_filters():\n",
    "    \"\"\" returns a list of kernels in several orientations\n",
    "    \"\"\"\n",
    "    filters = []\n",
    "    ksize = 3\n",
    "    for theta in np.arange(0, np.pi, np.pi / 32):\n",
    "        params = {'ksize':(ksize, ksize), 'sigma':1.0, 'theta':theta, 'lambd':35.0,\n",
    "                  'gamma':0.02, 'psi':0, 'ktype':cv2.CV_32F}\n",
    "        kern = cv2.getGaborKernel(**params)\n",
    "        kern /= 1.5*kern.sum()\n",
    "        filters.append((kern,params))\n",
    "    return filters\n",
    "\n",
    "def process(img, filters):\n",
    "    \"\"\" returns the img filtered by the filter list\n",
    "    \"\"\"\n",
    "    accum = np.zeros_like(img)\n",
    "    for kern,params in filters:\n",
    "        fimg = cv2.filter2D(img, cv2.CV_8UC3, kern)\n",
    "        np.maximum(accum, fimg, accum)\n",
    "    return accum\n",
    "\n",
    "def Gabor_filter(images):\n",
    "    gabor_images= []\n",
    "    for image in images:\n",
    "        filters = build_filters()\n",
    "        gabor_image = process(image, filters)\n",
    "        gabor_images.append(gabor_image)\n",
    "    return gabor_images\n",
    "\n",
    "def bottom_hat_filter(images):\n",
    "    bottom_hat_images = []\n",
    "    for image in images:\n",
    "        kernel = np.ones((7,7),np.uint8)\n",
    "        bottomhat = cv2.morphologyEx(image, cv2.MORPH_BLACKHAT, kernel)\n",
    "        bottom_hat_images.append(bottomhat)\n",
    "    return bottom_hat_images\n",
    "\n",
    "def Threshold_image(images):\n",
    "    images_thresholding = []\n",
    "    for image in images:\n",
    "        mean_value = image.mean()\n",
    "        std_value = image.std()\n",
    "        thresh = (mean_value+std_value)\n",
    "        r, c = image.shape\n",
    "        Dd = np.zeros(shape=(r, c))\n",
    "        Dc = np.zeros(shape=(r, c))\n",
    "        for i in range(1, r):\n",
    "            for j in range(1, c):\n",
    "                if image[i, j] >=thresh:\n",
    "                    Dd[i, j] = 0\n",
    "                else:\n",
    "                    Dd[i, j] = 1\n",
    "        images_thresholding.append(Dd)\n",
    "    return images_thresholding\n",
    "\n",
    "\n",
    "def dark_blood_vessal(thresholding_value, real_image):\n",
    "    dark_vessal_images = []\n",
    "    for i in range(len(thresholding_value)):\n",
    "        dark_image = (thresholding_value[i]*real_image[i])\n",
    "        dark_vessal_images.append(dark_image)\n",
    "    return dark_vessal_images\n",
    "\n",
    "\n",
    "from skimage.feature import hog\n",
    "import scipy\n",
    "\n",
    "def get_hog_features(img, orient, pix_per_cell, cell_per_block, \n",
    "                        vis=False, feature_vec=True):\n",
    "    \"\"\"\n",
    "    Return the hog features of the given input image\n",
    "    Call with two outputs if vis==True\"\"\"\n",
    "    if vis == True:\n",
    "        features, hog_image = hog(img, orientations=orient, pixels_per_cell=(pix_per_cell, pix_per_cell),\n",
    "                                  cells_per_block=(cell_per_block, cell_per_block), transform_sqrt=True, \n",
    "                                  visualise=vis, feature_vector=feature_vec)\n",
    "        return features, hog_image\n",
    "    # Otherwise call with one output\n",
    "    else:      \n",
    "        features = hog(img, orientations=orient, pixels_per_cell=(pix_per_cell, pix_per_cell),\n",
    "                       cells_per_block=(cell_per_block, cell_per_block), transform_sqrt=True, \n",
    "                       visualise=vis, feature_vector=feature_vec)\n",
    "        return features\n",
    "    \n",
    "\n",
    "\n",
    "def feature_extraction_Hog(images):\n",
    "    image_features = []\n",
    "    for image in images:\n",
    "        feature = []\n",
    "        features = get_hog_features(image ,9, 8, 2,vis=False, feature_vec=True)\n",
    "        features = np.ravel(features)\n",
    "        feature.append(features.mean())\n",
    "        feature.append(scipy.stats.skew(features, axis=0, bias=True))\n",
    "        feature.append(scipy.stats.kurtosis(features))\n",
    "        feature.append(scipy.stats.entropy(features))\n",
    "        feature.append(np.var(features))\n",
    "        transpose = np.transpose(feature)\n",
    "        image_features.append(transpose)\n",
    "    return image_features"
   ]
  },
  {
   "cell_type": "code",
   "execution_count": 51,
   "metadata": {},
   "outputs": [
    {
     "name": "stderr",
     "output_type": "stream",
     "text": [
      "c:\\users\\marzan\\appdata\\local\\programs\\python\\python35\\lib\\site-packages\\skimage\\feature\\_hog.py:239: skimage_deprecation: Argument `visualise` is deprecated and will be changed to `visualize` in v0.16\n",
      "  'be changed to `visualize` in v0.16', skimage_deprecation)\n"
     ]
    }
   ],
   "source": [
    "glaucoma_preprocessing_Hog = Image_preprocessing_Hog(glaucoma)\n",
    "healthy_preprocessing_Hog = Image_preprocessing_Hog(healthy)\n",
    "\n",
    "\n",
    "glaucoma_after_gabor = Gabor_filter(glaucoma_preprocessing_Hog)\n",
    "healthy_after_gabor = Gabor_filter(healthy_preprocessing_Hog)\n",
    "\n",
    "\n",
    "glaucoma_after_bottom_hat = bottom_hat_filter(glaucoma_after_gabor)\n",
    "healthy_after_bottom_hat = bottom_hat_filter(healthy_after_gabor)\n",
    "\n",
    "\n",
    "glaucoma_after_threshold = Threshold_image(glaucoma_after_bottom_hat)\n",
    "healthy_after_threshold = Threshold_image(healthy_after_bottom_hat)\n",
    "\n",
    "\n",
    "glaucoma_dark = dark_blood_vessal(glaucoma_after_threshold,glaucoma_preprocessing_Hog)\n",
    "healthy_dark = dark_blood_vessal(healthy_after_threshold,healthy_preprocessing_Hog)\n",
    "\n",
    "\n",
    "glaucoma_feature_Hog = feature_extraction_Hog(glaucoma_dark)\n",
    "healthy_feature_hog = feature_extraction_Hog(healthy_dark)\n",
    "\n",
    "X_Hog = np.vstack((glaucoma_feature_Hog,healthy_feature_hog)).astype(np.float64)\n",
    "y_Hog = np.hstack((np.zeros(len(glaucoma_feature_Hog)), np.ones(len(healthy_feature_hog))))\n"
   ]
  },
  {
   "cell_type": "code",
   "execution_count": 52,
   "metadata": {},
   "outputs": [],
   "source": [
    "\n",
    "filename = 'E:\\\\glaucoma_final\\\\finalized_model_hog.sav'\n",
    "svc_hog = pickle.load(open(filename, 'rb'))\n",
    "\n",
    "y_pred_hog = svc_hog.predict(X_Hog)\n",
    "probs_hog = svc_hog.predict_proba(X_Hog)\n",
    "probs_hog = probs_hog[:,1]\n",
    "fpr_hog, tpr_hog, thresholds_hog = roc_curve(y_Hog, probs_hog)\n",
    "auc_hog = roc_auc_score(y_Hog, probs_hog)"
   ]
  },
  {
   "cell_type": "markdown",
   "metadata": {},
   "source": [
    "# :::::::::::::::::ROC CURVE:::::::::::::"
   ]
  },
  {
   "cell_type": "code",
   "execution_count": 53,
   "metadata": {},
   "outputs": [],
   "source": [
    "def plot_roc_curve(fpr1, tpr1, fpr2, tpr2, fpr3, tpr3):\n",
    "    plt.plot(fpr1, tpr1, color='orange', label='ORB Accuracy 94%')\n",
    "    plt.plot(fpr2, tpr2, color='green', label='Brief Accuracy 80%')\n",
    "    plt.plot(fpr3, tpr3, color='red', label='Hog Accuracy 78%')\n",
    "    plt.plot([0, 1], [0, 1], color='darkblue', linestyle='--')\n",
    "    plt.xlabel('False Positive Rate')\n",
    "    plt.ylabel('True Positive Rate')\n",
    "    plt.title('Receiver Operating Characteristic (ROC) Curve')\n",
    "    plt.legend()\n",
    "    plt.show()"
   ]
  },
  {
   "cell_type": "code",
   "execution_count": 54,
   "metadata": {
    "scrolled": true
   },
   "outputs": [
    {
     "data": {
      "image/png": "[encoded data removed]",
      "text/plain": [
       "<Figure size 432x288 with 1 Axes>"
      ]
     },
     "metadata": {
      "needs_background": "light"
     },
     "output_type": "display_data"
    }
   ],
   "source": [
    "plot_roc_curve(fpr_orb, tpr_orb, fpr_brief, tpr_brief, fpr_hog, tpr_hog)"
   ]
  }
 ],
 "metadata": {
  "kernelspec": {
   "display_name": "Python 3",
   "language": "python",
   "name": "python3"
  },
  "language_info": {
   "codemirror_mode": {
    "name": "ipython",
    "version": 3
   },
   "file_extension": ".py",
   "mimetype": "text/x-python",
   "name": "python",
   "nbconvert_exporter": "python",
   "pygments_lexer": "ipython3",
   "version": "3.5.2"
  }
 },
 "nbformat": 4,
 "nbformat_minor": 2
}
