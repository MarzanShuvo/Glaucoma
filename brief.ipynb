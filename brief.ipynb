{
 "cells": [
  {
   "cell_type": "code",
   "execution_count": 25,
   "metadata": {},
   "outputs": [],
   "source": [
    "\n",
    "import matplotlib.pyplot as plt\n",
    "import numpy as np\n",
    "import cv2\n",
    "%matplotlib inline"
   ]
  },
  {
   "cell_type": "code",
   "execution_count": 26,
   "metadata": {},
   "outputs": [
    {
     "name": "stdout",
     "output_type": "stream",
     "text": [
      "56\n",
      "56\n"
     ]
    }
   ],
   "source": [
    "import glob\n",
    "#Data folders\n",
    "glaucoma_dir ='E:\\\\glaucoma_final\\\\dataset\\\\g'\n",
    "healthy_dir = 'E:\\\\glaucoma_final\\\\dataset\\\\healthy'\n",
    "# images are divided up into vehicles and non-vehicles\n",
    "glaucoma = []\n",
    "healthy = []\n",
    "# Read \n",
    "images = glob.iglob(glaucoma_dir + '/**/*.png', recursive=True)\n",
    "\n",
    "for image in images:\n",
    "        glaucoma.append(image)\n",
    "        \n",
    "images = glob.iglob(healthy_dir + '/**/*.jpg', recursive=True)\n",
    "\n",
    "for image in images:\n",
    "        healthy.append(image)\n",
    "\n",
    "        \n",
    "print(len(glaucoma))\n",
    "print(len(healthy))"
   ]
  },
  {
   "cell_type": "code",
   "execution_count": 27,
   "metadata": {},
   "outputs": [],
   "source": [
    "def Image_preprocessing(images):\n",
    "    preprocessed_image = []\n",
    "    for image in images:\n",
    "        image = cv2.imread(image)\n",
    "        reshape = cv2.resize(image, (400, 400))\n",
    "        blue, green, red = cv2.split(reshape)\n",
    "        equ = cv2.equalizeHist(green)\n",
    "        preprocessed_image.append(equ)\n",
    "    return preprocessed_image"
   ]
  },
  {
   "cell_type": "code",
   "execution_count": 28,
   "metadata": {},
   "outputs": [
    {
     "name": "stdout",
     "output_type": "stream",
     "text": [
      "56\n"
     ]
    }
   ],
   "source": [
    "glaucoma_preprocessing = Image_preprocessing(glaucoma)\n",
    "print(len(glaucoma_preprocessing))"
   ]
  },
  {
   "cell_type": "code",
   "execution_count": 29,
   "metadata": {},
   "outputs": [
    {
     "name": "stdout",
     "output_type": "stream",
     "text": [
      "56\n"
     ]
    }
   ],
   "source": [
    "healthy_preprocessing = Image_preprocessing(healthy)\n",
    "print(len(healthy_preprocessing))"
   ]
  },
  {
   "cell_type": "code",
   "execution_count": 30,
   "metadata": {},
   "outputs": [],
   "source": [
    "def brief_feature_extraction(images):\n",
    "    brief_feature_extracted = []\n",
    "    for image in images:\n",
    "        image_features = []\n",
    "        feature_image = np.copy(image)\n",
    "        brief_features = []\n",
    "        fast = cv2.FastFeatureDetector_create()\n",
    "        brief = cv2.xfeatures2d.BriefDescriptorExtractor_create()\n",
    "        keypoints = fast.detect(feature_image, None)\n",
    "        keypoints_brief, descriptors = brief.compute(feature_image, keypoints)\n",
    "        brief_features.append(descriptors[0:200])\n",
    "        brief_features = np.ravel(brief_features)\n",
    "        image_features.append(brief_features)\n",
    "        brief_feature_extracted.append(np.concatenate(image_features))\n",
    "    return brief_feature_extracted"
   ]
  },
  {
   "cell_type": "code",
   "execution_count": 31,
   "metadata": {},
   "outputs": [
    {
     "name": "stdout",
     "output_type": "stream",
     "text": [
      "56\n"
     ]
    }
   ],
   "source": [
    "glaucoma_feature = brief_feature_extraction(glaucoma_preprocessing)\n",
    "print(len(glaucoma_feature))"
   ]
  },
  {
   "cell_type": "code",
   "execution_count": 32,
   "metadata": {},
   "outputs": [
    {
     "name": "stdout",
     "output_type": "stream",
     "text": [
      "56\n"
     ]
    }
   ],
   "source": [
    "healthy_feature = brief_feature_extraction(healthy_preprocessing)\n",
    "print(len(healthy_feature))"
   ]
  },
  {
   "cell_type": "code",
   "execution_count": 33,
   "metadata": {},
   "outputs": [],
   "source": [
    "X = np.vstack((glaucoma_feature,healthy_feature)).astype(np.float64)"
   ]
  },
  {
   "cell_type": "code",
   "execution_count": 34,
   "metadata": {},
   "outputs": [
    {
     "name": "stdout",
     "output_type": "stream",
     "text": [
      "(112, 6400)\n"
     ]
    }
   ],
   "source": [
    "print(X.shape)"
   ]
  },
  {
   "cell_type": "code",
   "execution_count": 35,
   "metadata": {},
   "outputs": [],
   "source": [
    "y = np.hstack((np.zeros(len(glaucoma_feature)), np.ones(len(healthy_feature))))"
   ]
  },
  {
   "cell_type": "code",
   "execution_count": 36,
   "metadata": {},
   "outputs": [],
   "source": [
    "from sklearn.svm import LinearSVC"
   ]
  },
  {
   "cell_type": "code",
   "execution_count": 37,
   "metadata": {},
   "outputs": [
    {
     "data": {
      "text/plain": [
       "LinearSVC(C=1.0, class_weight=None, dual=True, fit_intercept=True,\n",
       "          intercept_scaling=1, loss='squared_hinge', max_iter=1000,\n",
       "          multi_class='ovr', penalty='l2', random_state=None, tol=0.0001,\n",
       "          verbose=0)"
      ]
     },
     "execution_count": 37,
     "metadata": {},
     "output_type": "execute_result"
    }
   ],
   "source": [
    "svc = LinearSVC()\n",
    "svc.fit(X, y)"
   ]
  },
  {
   "cell_type": "code",
   "execution_count": null,
   "metadata": {},
   "outputs": [],
   "source": []
  },
  {
   "cell_type": "code",
   "execution_count": 38,
   "metadata": {},
   "outputs": [
    {
     "name": "stdout",
     "output_type": "stream",
     "text": [
      "[[56  0]\n",
      " [ 0 56]]\n"
     ]
    }
   ],
   "source": [
    "from sklearn.metrics import confusion_matrix\n",
    "y_pred = svc.predict(X)\n",
    "print(confusion_matrix(y, y_pred))"
   ]
  },
  {
   "cell_type": "code",
   "execution_count": null,
   "metadata": {},
   "outputs": [],
   "source": []
  },
  {
   "cell_type": "code",
   "execution_count": 39,
   "metadata": {},
   "outputs": [],
   "source": [
    "import pickle\n",
    "filename = 'E:\\\\glaucoma_final\\\\finalized_model_brief_svc.sav'\n",
    "pickle.dump(svc, open(filename, 'wb'))"
   ]
  },
  {
   "cell_type": "code",
   "execution_count": null,
   "metadata": {},
   "outputs": [],
   "source": []
  },
  {
   "cell_type": "code",
   "execution_count": null,
   "metadata": {},
   "outputs": [],
   "source": []
  }
 ],
 "metadata": {
  "kernelspec": {
   "display_name": "Python 3",
   "language": "python",
   "name": "python3"
  },
  "language_info": {
   "codemirror_mode": {
    "name": "ipython",
    "version": 3
   },
   "file_extension": ".py",
   "mimetype": "text/x-python",
   "name": "python",
   "nbconvert_exporter": "python",
   "pygments_lexer": "ipython3",
   "version": "3.5.2"
  }
 },
 "nbformat": 4,
 "nbformat_minor": 2
}
